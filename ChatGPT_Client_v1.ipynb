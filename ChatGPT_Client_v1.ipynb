{
  "cells": [
    {
      "cell_type": "code",
      "execution_count": 1,
      "metadata": {
        "id": "IH5y5ciiZHWA"
      },
      "outputs": [],
      "source": [
        "import requests"
      ]
    },
    {
      "cell_type": "markdown",
      "metadata": {
        "id": "SBvtafZ1srCm"
      },
      "source": [
        "### Update the baseurl from the ChatGPT_Server.ipynb"
      ]
    },
    {
      "cell_type": "code",
      "execution_count": 3,
      "metadata": {
        "id": "RagkGqKTsp1D"
      },
      "outputs": [],
      "source": [
        "baseurl = 'http://6258-2601-985-4181-6b90-adbc-cb82-6af1-1c73.ngrok.io'\n"
      ]
    },
    {
      "cell_type": "markdown",
      "metadata": {
        "id": "kL0AM8XEsXy4"
      },
      "source": [
        "### Health Check API"
      ]
    },
    {
      "cell_type": "code",
      "execution_count": 4,
      "metadata": {
        "colab": {
          "base_uri": "https://localhost:8080/"
        },
        "id": "l8UJAIxbsVIb",
        "outputId": "77d35b15-d27c-405d-92df-a68ef67811c6"
      },
      "outputs": [
        {
          "name": "stdout",
          "output_type": "stream",
          "text": [
            "{'text': 'Success'}\n"
          ]
        }
      ],
      "source": [
        "url = baseurl + \"/health\"\n",
        "response = requests.get(url)\n",
        "print(response.json())"
      ]
    },
    {
      "cell_type": "markdown",
      "metadata": {
        "id": "q36cgKNbscnP"
      },
      "source": [
        "### Make Chatbot API Request"
      ]
    },
    {
      "cell_type": "code",
      "execution_count": 6,
      "metadata": {
        "colab": {
          "base_uri": "https://localhost:8080/"
        },
        "id": "DCXsxTnLZJ2Y",
        "outputId": "9d46b968-c7ef-47ad-803d-e2d3757d463a"
      },
      "outputs": [
        {
          "name": "stdout",
          "output_type": "stream",
          "text": [
            "{'text': \"How are you Jon Snow?\\n\\nJon Snow is The Hero from The Winds of Winter. He's the king of the Seven Kingdoms and the son of King Joffrey and Queen Melisandre. Jon Snow is the current King Arthur.\\n\"}\n"
          ]
        }
      ],
      "source": [
        "\n",
        "url = baseurl + \"/chatbot\"\n",
        "\n",
        "# send a query to the chatbot\n",
        "query = 'How are you Jon Snow?'\n",
        "response = requests.post(url, json={'text': query})\n",
        "\n",
        "# print the response\n",
        "print(response.json())\n"
      ]
    }
  ],
  "metadata": {
    "colab": {
      "provenance": []
    },
    "kernelspec": {
      "display_name": "Python 3",
      "name": "python3"
    },
    "language_info": {
      "codemirror_mode": {
        "name": "ipython",
        "version": 3
      },
      "file_extension": ".py",
      "mimetype": "text/x-python",
      "name": "python",
      "nbconvert_exporter": "python",
      "pygments_lexer": "ipython3",
      "version": "3.10.9"
    }
  },
  "nbformat": 4,
  "nbformat_minor": 0
}
